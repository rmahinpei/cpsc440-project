{
  "cells": [
    {
      "cell_type": "markdown",
      "metadata": {
        "id": "danNcd-Sk2ex"
      },
      "source": [
        "# **Recurrent Neural Network for Text Classification**\n",
        "*   Implementation of a recurrent neural network classifier supporting **multi-precision** training.\n",
        "    *   Implementation currently supports training in either double, single, or half precision.\n",
        "    *   This implies that both the computations and parameter storage are done in the specified precision.\n",
        "*   Implementation of a recurrent neural network classifier supporting **mixed-precision** training.\n",
        "    *   Implementation currently supports half precision computations with single precision parameter storage.\n",
        "*   Implementations are based off of TensorFlow's very own example: [TensorFlow RNN Tutorial](https://www.tensorflow.org/text/tutorials/text_classification_rnn)"
      ]
    },
    {
      "cell_type": "code",
      "execution_count": 1,
      "metadata": {
        "id": "6T5USDJ3cg4q"
      },
      "outputs": [],
      "source": [
        "import time\n",
        "import tensorflow as tf\n",
        "import tensorflow_datasets as tfds\n",
        "from tensorflow.keras import layers, models"
      ]
    },
    {
      "cell_type": "code",
      "execution_count": 3,
      "metadata": {
        "id": "vBBXU5ISdPJN"
      },
      "outputs": [],
      "source": [
        "tfds.disable_progress_bar()\n",
        "# Set a global random seed\n",
        "tf.random.set_seed(12)"
      ]
    },
    {
      "cell_type": "code",
      "execution_count": 12,
      "metadata": {
        "id": "hPvTM0T1hT_G"
      },
      "outputs": [],
      "source": [
        "# Define number of training runs to compute the average training time over\n",
        "NUM_TRAINING_RUNS = 3\n",
        "# Values are specific to the imdb_reviews dataset\n",
        "VOCAB_SIZE = 1000\n",
        "BUFFER_SIZE = 10000\n",
        "BATCH_SIZE = 64"
      ]
    },
    {
      "cell_type": "code",
      "execution_count": 7,
      "metadata": {
        "id": "2S38gwMed1Xd"
      },
      "outputs": [],
      "source": [
        "def build_and_train(train_ds, encoder, precision):\n",
        "    if precision == 'double':\n",
        "        dtype = tf.float64\n",
        "    elif precision == 'single':\n",
        "        dtype = tf.float32\n",
        "    else: # half\n",
        "        dtype = tf.float16\n",
        "\n",
        "    model = models.Sequential([\n",
        "      encoder,\n",
        "      layers.Embedding(\n",
        "          input_dim=len(encoder.get_vocabulary()),\n",
        "          output_dim=64,\n",
        "          mask_zero=True,\n",
        "          dtype=dtype),\n",
        "      layers.Bidirectional(layers.LSTM(64), dtype=dtype),\n",
        "      layers.Dense(64, activation='relu', dtype=dtype),\n",
        "      layers.Dense(1, dtype=dtype)\n",
        "    ])\n",
        "    model.compile(loss=tf.keras.losses.BinaryCrossentropy(from_logits=True),\n",
        "              optimizer=tf.keras.optimizers.Adam(1e-4),\n",
        "              metrics=['accuracy'])\n",
        "\n",
        "    start_time = time.time()\n",
        "    model.fit(train_ds, epochs=5)\n",
        "    end_time = time.time()\n",
        "    training_time = end_time - start_time\n",
        "\n",
        "    return model, training_time"
      ]
    },
    {
      "cell_type": "code",
      "execution_count": 17,
      "metadata": {
        "id": "ks3tQxOXiVNi"
      },
      "outputs": [],
      "source": [
        "def build_and_train_mixed(train_ds, encoder):\n",
        "    tf.keras.mixed_precision.set_global_policy('mixed_float16')\n",
        "\n",
        "    model = models.Sequential([\n",
        "      encoder,\n",
        "      layers.Embedding(\n",
        "          input_dim=len(encoder.get_vocabulary()),\n",
        "          output_dim=64,\n",
        "          mask_zero=True),\n",
        "      layers.Bidirectional(layers.LSTM(64)),\n",
        "      layers.Dense(64, activation='relu'),\n",
        "      layers.Dense(1)\n",
        "    ])\n",
        "    model.compile(loss=tf.keras.losses.BinaryCrossentropy(from_logits=True),\n",
        "              optimizer=tf.keras.optimizers.Adam(1e-4),\n",
        "              metrics=['accuracy'])\n",
        "\n",
        "    start_time = time.time()\n",
        "    model.fit(train_ds, epochs=5)\n",
        "    end_time = time.time()\n",
        "    training_time = end_time - start_time\n",
        "\n",
        "    tf.keras.mixed_precision.set_global_policy('float32')\n",
        "    return model, training_time"
      ]
    },
    {
      "cell_type": "code",
      "execution_count": 4,
      "metadata": {
        "id": "DzYZz3lldHEm"
      },
      "outputs": [],
      "source": [
        "# Load dataset and split into train and test sets\n",
        "dataset, info = tfds.load('imdb_reviews', with_info=True, as_supervised=True)\n",
        "train_dataset, test_dataset = dataset['train'], dataset['test']\n",
        "train_dataset = train_dataset.shuffle(BUFFER_SIZE).batch(BATCH_SIZE).prefetch(tf.data.AUTOTUNE)\n",
        "test_dataset = test_dataset.batch(BATCH_SIZE).prefetch(tf.data.AUTOTUNE)"
      ]
    },
    {
      "cell_type": "code",
      "execution_count": 5,
      "metadata": {
        "id": "xBw2rvB4dkAA"
      },
      "outputs": [],
      "source": [
        "# Create the text encoder\n",
        "encoder = tf.keras.layers.TextVectorization(max_tokens=VOCAB_SIZE)\n",
        "encoder.adapt(train_dataset.map(lambda text, label: text))"
      ]
    },
    {
      "cell_type": "code",
      "execution_count": 8,
      "metadata": {
        "colab": {
          "base_uri": "https://localhost:8080/"
        },
        "id": "OeRh1tE5ec1Y",
        "outputId": "5e6c37c6-2b39-428c-90ce-f0fa462b82dc"
      },
      "outputs": [
        {
          "name": "stdout",
          "output_type": "stream",
          "text": [
            "Epoch 1/5\n",
            "391/391 [==============================] - 46s 91ms/step - loss: 0.6504 - accuracy: 0.5514\n",
            "Epoch 2/5\n",
            "391/391 [==============================] - 25s 63ms/step - loss: 0.4343 - accuracy: 0.7874\n",
            "Epoch 3/5\n",
            "391/391 [==============================] - 23s 59ms/step - loss: 0.3962 - accuracy: 0.8217\n",
            "Epoch 4/5\n",
            "391/391 [==============================] - 23s 57ms/step - loss: 0.3385 - accuracy: 0.8531\n",
            "Epoch 5/5\n",
            "391/391 [==============================] - 23s 59ms/step - loss: 0.3234 - accuracy: 0.8600\n"
          ]
        }
      ],
      "source": [
        "# Test run to make sure that everything is working properly before starting actual measurements\n",
        "_ = build_and_train(train_dataset, encoder, precision='single')\n",
        "_ = build_and_train_mixed(train_dataset, encoder)"
      ]
    },
    {
      "cell_type": "code",
      "execution_count": 13,
      "metadata": {
        "colab": {
          "base_uri": "https://localhost:8080/"
        },
        "id": "uv-tNmzshPhL",
        "outputId": "06d0a06d-eda8-49c1-8c1f-434fa2f7ecfd"
      },
      "outputs": [
        {
          "name": "stdout",
          "output_type": "stream",
          "text": [
            "Epoch 1/5\n",
            "391/391 [==============================] - 51s 104ms/step - loss: 0.6556 - accuracy: 0.5470\n",
            "Epoch 2/5\n",
            "391/391 [==============================] - 28s 70ms/step - loss: 0.4262 - accuracy: 0.8051\n",
            "Epoch 3/5\n",
            "391/391 [==============================] - 25s 64ms/step - loss: 0.3518 - accuracy: 0.8460\n",
            "Epoch 4/5\n",
            "391/391 [==============================] - 26s 66ms/step - loss: 0.3273 - accuracy: 0.8586\n",
            "Epoch 5/5\n",
            "391/391 [==============================] - 27s 68ms/step - loss: 0.3155 - accuracy: 0.8659\n",
            "Epoch 1/5\n",
            "391/391 [==============================] - 49s 100ms/step - loss: 0.6408 - accuracy: 0.5616\n",
            "Epoch 2/5\n",
            "391/391 [==============================] - 30s 76ms/step - loss: 0.4907 - accuracy: 0.7030\n",
            "Epoch 3/5\n",
            "391/391 [==============================] - 26s 66ms/step - loss: 0.3597 - accuracy: 0.8379\n",
            "Epoch 4/5\n",
            "391/391 [==============================] - 26s 66ms/step - loss: 0.3322 - accuracy: 0.8523\n",
            "Epoch 5/5\n",
            "391/391 [==============================] - 26s 65ms/step - loss: 0.3168 - accuracy: 0.8625\n",
            "Epoch 1/5\n",
            "391/391 [==============================] - 50s 105ms/step - loss: 0.6359 - accuracy: 0.5795\n",
            "Epoch 2/5\n",
            "391/391 [==============================] - 26s 67ms/step - loss: 0.4331 - accuracy: 0.7930\n",
            "Epoch 3/5\n",
            "391/391 [==============================] - 27s 69ms/step - loss: 0.3599 - accuracy: 0.8392\n",
            "Epoch 4/5\n",
            "391/391 [==============================] - 25s 64ms/step - loss: 0.3350 - accuracy: 0.8534\n",
            "Epoch 5/5\n",
            "391/391 [==============================] - 25s 63ms/step - loss: 0.3232 - accuracy: 0.8582\n",
            "391/391 - 13s - loss: 0.3222 - accuracy: 0.8587 - 13s/epoch - 34ms/step\n"
          ]
        }
      ],
      "source": [
        "# Train with double precision\n",
        "time_double = 0.0\n",
        "for _ in range(NUM_TRAINING_RUNS):\n",
        "    model_double, training_time = build_and_train(train_dataset, encoder, 'double')\n",
        "    time_double += training_time\n",
        "accuracy_double = model_double.evaluate(test_dataset, verbose=2)[1]"
      ]
    },
    {
      "cell_type": "code",
      "execution_count": 14,
      "metadata": {
        "colab": {
          "base_uri": "https://localhost:8080/"
        },
        "id": "ZmQzY3QQiDqS",
        "outputId": "b745ab4b-ac03-49c5-aef2-b50fd0c5d42e"
      },
      "outputs": [
        {
          "name": "stdout",
          "output_type": "stream",
          "text": [
            "Epoch 1/5\n",
            "391/391 [==============================] - 40s 78ms/step - loss: 0.6376 - accuracy: 0.5794\n",
            "Epoch 2/5\n",
            "391/391 [==============================] - 25s 63ms/step - loss: 0.4047 - accuracy: 0.8163\n",
            "Epoch 3/5\n",
            "391/391 [==============================] - 24s 60ms/step - loss: 0.3382 - accuracy: 0.8501\n",
            "Epoch 4/5\n",
            "391/391 [==============================] - 24s 60ms/step - loss: 0.3170 - accuracy: 0.8624\n",
            "Epoch 5/5\n",
            "391/391 [==============================] - 25s 63ms/step - loss: 0.3110 - accuracy: 0.8659\n",
            "Epoch 1/5\n",
            "391/391 [==============================] - 42s 84ms/step - loss: 0.6409 - accuracy: 0.5629\n",
            "Epoch 2/5\n",
            "391/391 [==============================] - 25s 63ms/step - loss: 0.3959 - accuracy: 0.8170\n",
            "Epoch 3/5\n",
            "391/391 [==============================] - 24s 62ms/step - loss: 0.3376 - accuracy: 0.8514\n",
            "Epoch 4/5\n",
            "391/391 [==============================] - 24s 61ms/step - loss: 0.3196 - accuracy: 0.8615\n",
            "Epoch 5/5\n",
            "391/391 [==============================] - 24s 60ms/step - loss: 0.3145 - accuracy: 0.8625\n",
            "Epoch 1/5\n",
            "391/391 [==============================] - 40s 78ms/step - loss: 0.6289 - accuracy: 0.5814\n",
            "Epoch 2/5\n",
            "391/391 [==============================] - 25s 63ms/step - loss: 0.3873 - accuracy: 0.8219\n",
            "Epoch 3/5\n",
            "391/391 [==============================] - 24s 60ms/step - loss: 0.3381 - accuracy: 0.8526\n",
            "Epoch 4/5\n",
            "391/391 [==============================] - 25s 63ms/step - loss: 0.3197 - accuracy: 0.8625\n",
            "Epoch 5/5\n",
            "391/391 [==============================] - 24s 61ms/step - loss: 0.3126 - accuracy: 0.8642\n",
            "391/391 - 12s - loss: 0.3168 - accuracy: 0.8617 - 12s/epoch - 31ms/step\n"
          ]
        }
      ],
      "source": [
        "# Train with single precision\n",
        "time_single = 0.0\n",
        "for _ in range(NUM_TRAINING_RUNS):\n",
        "    model_single, training_time = build_and_train(train_dataset, encoder, 'single')\n",
        "    time_single += training_time\n",
        "accuracy_single = model_single.evaluate(test_dataset, verbose=2)[1]"
      ]
    },
    {
      "cell_type": "code",
      "execution_count": 15,
      "metadata": {
        "colab": {
          "base_uri": "https://localhost:8080/"
        },
        "id": "YUEtv2Y-hw34",
        "outputId": "b7a12b87-3e2f-41dc-9a12-9184f193b6f3"
      },
      "outputs": [
        {
          "name": "stdout",
          "output_type": "stream",
          "text": [
            "Epoch 1/5\n",
            "391/391 [==============================] - 49s 100ms/step - loss: 0.7071 - accuracy: 0.5370\n",
            "Epoch 2/5\n",
            "391/391 [==============================] - 25s 65ms/step - loss: 0.6502 - accuracy: 0.6052\n",
            "Epoch 3/5\n",
            "391/391 [==============================] - 26s 65ms/step - loss: 0.5924 - accuracy: 0.6631\n",
            "Epoch 4/5\n",
            "391/391 [==============================] - 26s 67ms/step - loss: 0.5287 - accuracy: 0.7198\n",
            "Epoch 5/5\n",
            "391/391 [==============================] - 26s 65ms/step - loss: 0.4913 - accuracy: 0.7516\n",
            "Epoch 1/5\n",
            "391/391 [==============================] - 40s 83ms/step - loss: 0.7202 - accuracy: 0.5212\n",
            "Epoch 2/5\n",
            "391/391 [==============================] - 27s 67ms/step - loss: 0.6654 - accuracy: 0.5876\n",
            "Epoch 3/5\n",
            "391/391 [==============================] - 27s 68ms/step - loss: 0.6078 - accuracy: 0.6468\n",
            "Epoch 4/5\n",
            "391/391 [==============================] - 27s 68ms/step - loss: 0.5521 - accuracy: 0.7051\n",
            "Epoch 5/5\n",
            "391/391 [==============================] - 26s 66ms/step - loss: 0.4935 - accuracy: 0.7544\n",
            "Epoch 1/5\n",
            "391/391 [==============================] - 42s 84ms/step - loss: 0.7078 - accuracy: 0.5282\n",
            "Epoch 2/5\n",
            "391/391 [==============================] - 27s 70ms/step - loss: 0.6459 - accuracy: 0.6035\n",
            "Epoch 3/5\n",
            "391/391 [==============================] - 26s 67ms/step - loss: 0.5663 - accuracy: 0.6812\n",
            "Epoch 4/5\n",
            "391/391 [==============================] - 27s 67ms/step - loss: 0.5108 - accuracy: 0.7338\n",
            "Epoch 5/5\n",
            "391/391 [==============================] - 26s 66ms/step - loss: 0.4731 - accuracy: 0.7574\n",
            "391/391 - 12s - loss: 0.4990 - accuracy: 0.7753 - 12s/epoch - 32ms/step\n"
          ]
        }
      ],
      "source": [
        "# Train with half precision\n",
        "time_half = 0.0\n",
        "for _ in range(NUM_TRAINING_RUNS):\n",
        "    model_half, training_time = build_and_train(train_dataset, encoder, 'half')\n",
        "    time_half += training_time\n",
        "accuracy_half = model_half.evaluate(test_dataset, verbose=2)[1]"
      ]
    },
    {
      "cell_type": "code",
      "execution_count": 18,
      "metadata": {
        "colab": {
          "base_uri": "https://localhost:8080/"
        },
        "id": "btri5Grpi8eW",
        "outputId": "75977c66-030e-4348-bc95-b57c4a305849"
      },
      "outputs": [
        {
          "name": "stdout",
          "output_type": "stream",
          "text": [
            "Epoch 1/5\n",
            "391/391 [==============================] - 46s 89ms/step - loss: 0.6343 - accuracy: 0.5732\n",
            "Epoch 2/5\n",
            "391/391 [==============================] - 27s 68ms/step - loss: 0.4400 - accuracy: 0.7841\n",
            "Epoch 3/5\n",
            "391/391 [==============================] - 25s 63ms/step - loss: 0.3865 - accuracy: 0.8265\n",
            "Epoch 4/5\n",
            "391/391 [==============================] - 25s 63ms/step - loss: 0.3609 - accuracy: 0.8466\n",
            "Epoch 5/5\n",
            "391/391 [==============================] - 25s 63ms/step - loss: 0.3318 - accuracy: 0.8620\n",
            "Epoch 1/5\n",
            "391/391 [==============================] - 41s 81ms/step - loss: 0.6504 - accuracy: 0.5641\n",
            "Epoch 2/5\n",
            "391/391 [==============================] - 26s 66ms/step - loss: 0.4036 - accuracy: 0.8156\n",
            "Epoch 3/5\n",
            "391/391 [==============================] - 25s 64ms/step - loss: 0.3357 - accuracy: 0.8525\n",
            "Epoch 4/5\n",
            "391/391 [==============================] - 25s 63ms/step - loss: 0.3185 - accuracy: 0.8596\n",
            "Epoch 5/5\n",
            "391/391 [==============================] - 25s 63ms/step - loss: 0.3092 - accuracy: 0.8639\n",
            "Epoch 1/5\n",
            "391/391 [==============================] - 41s 81ms/step - loss: 0.6497 - accuracy: 0.5603\n",
            "Epoch 2/5\n",
            "391/391 [==============================] - 26s 65ms/step - loss: 0.3968 - accuracy: 0.8214\n",
            "Epoch 3/5\n",
            "391/391 [==============================] - 25s 63ms/step - loss: 0.3373 - accuracy: 0.8511\n",
            "Epoch 4/5\n",
            "391/391 [==============================] - 24s 62ms/step - loss: 0.3206 - accuracy: 0.8604\n",
            "Epoch 5/5\n",
            "391/391 [==============================] - 25s 63ms/step - loss: 0.3123 - accuracy: 0.8659\n",
            "391/391 - 13s - loss: 0.3197 - accuracy: 0.8634 - 13s/epoch - 32ms/step\n"
          ]
        }
      ],
      "source": [
        "# Train with mixed half precision\n",
        "time_mixed = 0.0\n",
        "for _ in range(NUM_TRAINING_RUNS):\n",
        "    model_mixed, training_time = build_and_train_mixed(train_dataset, encoder)\n",
        "    time_mixed += training_time\n",
        "accuracy_mixed = model_mixed.evaluate(test_dataset, verbose=2)[1]"
      ]
    },
    {
      "cell_type": "code",
      "execution_count": 19,
      "metadata": {
        "colab": {
          "base_uri": "https://localhost:8080/"
        },
        "id": "axl0jSEzi-2L",
        "outputId": "8c3a44b1-a511-45a3-8227-da9827c0364c"
      },
      "outputs": [
        {
          "name": "stdout",
          "output_type": "stream",
          "text": [
            "---RESULTS---\n",
            "Average training time in double precision: 203.3181173801422 seconds\n",
            "Average training time in single precision: 159.53325843811035 seconds\n",
            "Average training time in half precision: 180.95898509025574 seconds\n",
            "Average training time in mixed half precision: 161.46620202064514 seconds\n",
            "-------------\n",
            "Accuracy with double precision: 0.858680009841919\n",
            "Accuracy with single precision: 0.8617200255393982\n",
            "Accuracy with half precision: 0.7752799987792969\n",
            "Accuracy with mixed half precision: 0.8634399771690369\n"
          ]
        }
      ],
      "source": [
        "print(\"---RESULTS---\")\n",
        "print(\"Average training time in double precision:\", time_double / NUM_TRAINING_RUNS, \"seconds\")\n",
        "print(\"Average training time in single precision:\", time_single/ NUM_TRAINING_RUNS, \"seconds\")\n",
        "print(\"Average training time in half precision:\", time_half/ NUM_TRAINING_RUNS, \"seconds\")\n",
        "print(\"Average training time in mixed half precision:\", time_mixed/ NUM_TRAINING_RUNS, \"seconds\")\n",
        "print(\"-------------\")\n",
        "print(\"Accuracy with double precision:\", accuracy_double)\n",
        "print(\"Accuracy with single precision:\", accuracy_single)\n",
        "print(\"Accuracy with half precision:\", accuracy_half)\n",
        "print(\"Accuracy with mixed half precision:\", accuracy_mixed)"
      ]
    }
  ],
  "metadata": {
    "accelerator": "GPU",
    "colab": {
      "gpuType": "T4",
      "provenance": []
    },
    "kernelspec": {
      "display_name": "Python 3",
      "name": "python3"
    },
    "language_info": {
      "name": "python"
    }
  },
  "nbformat": 4,
  "nbformat_minor": 0
}
