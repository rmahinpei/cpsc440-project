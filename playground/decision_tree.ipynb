{
  "nbformat": 4,
  "nbformat_minor": 0,
  "metadata": {
    "colab": {
      "provenance": [],
      "gpuType": "T4"
    },
    "kernelspec": {
      "name": "python3",
      "display_name": "Python 3"
    },
    "language_info": {
      "name": "python"
    },
    "accelerator": "GPU"
  },
  "cells": [
    {
      "cell_type": "code",
      "execution_count": 1,
      "metadata": {
        "id": "8HZIfwipoHZY"
      },
      "outputs": [],
      "source": [
        "import time\n",
        "import numpy as np\n",
        "from sklearn import datasets\n",
        "from sklearn.model_selection import train_test_split\n",
        "from sklearn.tree import DecisionTreeClassifier"
      ]
    },
    {
      "cell_type": "code",
      "source": [
        "# Define number of training runs to compute the average training time over\n",
        "NUM_TRAINING_RUNS = 5"
      ],
      "metadata": {
        "id": "iLytj_4soJHI"
      },
      "execution_count": 2,
      "outputs": []
    },
    {
      "cell_type": "code",
      "source": [
        "def train(X_train, y_train, precision):\n",
        "    if precision == 'double':\n",
        "        dtype = np.double\n",
        "    elif precision == 'single':\n",
        "        dtype = np.single\n",
        "    else: # half\n",
        "        dtype = np.half\n",
        "\n",
        "    X_train = np.array(X_train, dtype=dtype)\n",
        "    y_train = np.array(y_train, dtype=dtype)\n",
        "    model = DecisionTreeClassifier(random_state=12)\n",
        "\n",
        "    start_time = time.time()\n",
        "    model.fit(X_train, y_train)\n",
        "    end_time = time.time()\n",
        "    training_time = end_time - start_time\n",
        "\n",
        "    return model, training_time"
      ],
      "metadata": {
        "id": "_-7KOj_coOfs"
      },
      "execution_count": 4,
      "outputs": []
    },
    {
      "cell_type": "code",
      "source": [
        "# Load dataset and split into train and test sets\n",
        "iris = datasets.load_iris()\n",
        "X = iris.data\n",
        "y = iris.target\n",
        "X_train, X_test, y_train, y_test = train_test_split(X, y, test_size=0.5, random_state=12)"
      ],
      "metadata": {
        "id": "--U9oufwoO2k"
      },
      "execution_count": 6,
      "outputs": []
    },
    {
      "cell_type": "code",
      "source": [
        "# Test run to make sure that everything is working properly before starting actual measurements\n",
        "_ = train(X_train, y_train, precision='single')"
      ],
      "metadata": {
        "id": "Ic-KzNxgoYvA"
      },
      "execution_count": 7,
      "outputs": []
    },
    {
      "cell_type": "code",
      "source": [
        "# Train and evaluate with double precision\n",
        "time_double = 0.0\n",
        "for _ in range(NUM_TRAINING_RUNS):\n",
        "    model_double, training_time = train(X_train, y_train, precision='double')\n",
        "    time_double += training_time\n",
        "accuracy_double = model_double.score(X_test, y_test)"
      ],
      "metadata": {
        "id": "JZ2fR4PFoWr4"
      },
      "execution_count": 18,
      "outputs": []
    },
    {
      "cell_type": "code",
      "source": [
        "# Train and evaluate with single precision\n",
        "time_single = 0.0\n",
        "for _ in range(NUM_TRAINING_RUNS):\n",
        "    model_single, training_time = train(X_train, y_train, precision='single')\n",
        "    time_single += training_time\n",
        "accuracy_single = model_single.score(X_test, y_test)"
      ],
      "metadata": {
        "id": "DJZk7F8uocq4"
      },
      "execution_count": 16,
      "outputs": []
    },
    {
      "cell_type": "code",
      "source": [
        "# Train and evaluate with half precision\n",
        "time_half = 0.0\n",
        "for _ in range(NUM_TRAINING_RUNS):\n",
        "    model_half, training_time = train(X_train, y_train, precision='half')\n",
        "    time_half += training_time\n",
        "accuracy_half = model_half.score(X_test, y_test)"
      ],
      "metadata": {
        "id": "dpOs8Yfboekp"
      },
      "execution_count": 20,
      "outputs": []
    },
    {
      "cell_type": "code",
      "source": [
        "print(\"---RESULTS---\")\n",
        "print(\"Average training time in double precision:\", time_double / NUM_TRAINING_RUNS, \"seconds\")\n",
        "print(\"Average training time in single precision:\", time_single/ NUM_TRAINING_RUNS, \"seconds\")\n",
        "print(\"Average training time in half   precision:\", time_half/ NUM_TRAINING_RUNS, \"seconds\")\n",
        "print(\"-------------\")\n",
        "print(\"Accuracy with double precision:\", accuracy_double)\n",
        "print(\"Accuracy with single precision:\", accuracy_single)\n",
        "print(\"Accuracy with half   precision:\", accuracy_single)"
      ],
      "metadata": {
        "colab": {
          "base_uri": "https://localhost:8080/"
        },
        "id": "Yammac1rof4p",
        "outputId": "0e4f0ca7-634a-472c-e47d-cb496174ace1"
      },
      "execution_count": 21,
      "outputs": [
        {
          "output_type": "stream",
          "name": "stdout",
          "text": [
            "---RESULTS---\n",
            "Average training time in double precision: 0.001534414291381836 seconds\n",
            "Average training time in single precision: 0.001436471939086914 seconds\n",
            "Average training time in half   precision: 0.0013722896575927735 seconds\n",
            "-------------\n",
            "Accuracy with double precision: 0.9066666666666666\n",
            "Accuracy with single precision: 0.9066666666666666\n",
            "Accuracy with half   precision: 0.9066666666666666\n"
          ]
        }
      ]
    }
  ]
}