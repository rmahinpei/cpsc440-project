{
  "nbformat": 4,
  "nbformat_minor": 0,
  "metadata": {
    "colab": {
      "provenance": [],
      "gpuType": "T4"
    },
    "kernelspec": {
      "name": "python3",
      "display_name": "Python 3"
    },
    "language_info": {
      "name": "python"
    },
    "accelerator": "GPU"
  },
  "cells": [
    {
      "cell_type": "markdown",
      "source": [
        "# **Multi-Precision Linear Regression**\n",
        "*   Implementation of a linear regression model supporting multi-precision training.\n",
        "*   Implementation currently supports training in either double, single, or half precision.\n",
        "*   Implementation is based off of scikit-learn's very own example: [Scikit-Learn's Linear Regression Tutorial](https://scikit-learn.org/stable/auto_examples/linear_model/plot_ols.html)\n"
      ],
      "metadata": {
        "id": "Ov_S-AqUehsA"
      }
    },
    {
      "cell_type": "code",
      "execution_count": 1,
      "metadata": {
        "id": "SfI4giqYdfg5"
      },
      "outputs": [],
      "source": [
        "import time\n",
        "import numpy as np\n",
        "from sklearn import datasets\n",
        "from sklearn.linear_model import LinearRegression\n",
        "from sklearn.model_selection import train_test_split"
      ]
    },
    {
      "cell_type": "code",
      "source": [
        "# Define number of training runs to compute the average training time over\n",
        "NUM_TRAINING_RUNS = 5"
      ],
      "metadata": {
        "id": "vSjg1YmEdjFY"
      },
      "execution_count": 2,
      "outputs": []
    },
    {
      "cell_type": "code",
      "source": [
        "def train(X_train, y_train, precision):\n",
        "    if precision == 'double':\n",
        "        dtype = np.double\n",
        "    elif precision == 'single':\n",
        "        dtype = np.single\n",
        "    else: # half\n",
        "        dtype = np.half\n",
        "\n",
        "    X_train = np.array(X_train, dtype=dtype)\n",
        "    y_train = np.array(y_train, dtype=dtype)\n",
        "    model = LinearRegression()\n",
        "\n",
        "    start_time = time.time()\n",
        "    model.fit(X_train, y_train)\n",
        "    end_time = time.time()\n",
        "    training_time = end_time - start_time\n",
        "\n",
        "    return model, training_time"
      ],
      "metadata": {
        "id": "p228jcuzdtw8"
      },
      "execution_count": 3,
      "outputs": []
    },
    {
      "cell_type": "code",
      "source": [
        "# Load dataset and split into train and test sets\n",
        "X, y = datasets.load_diabetes(return_X_y=True)\n",
        "X_train, X_test, y_train, y_test = train_test_split(X, y, test_size=0.5, random_state=12)"
      ],
      "metadata": {
        "id": "_uDZsg5fdz8Y"
      },
      "execution_count": 5,
      "outputs": []
    },
    {
      "cell_type": "code",
      "source": [
        "# Test run to make sure that everything is working properly before starting actual measurements\n",
        "_ = train(X_train, y_train, precision='single')"
      ],
      "metadata": {
        "id": "_jMeAWaYd095"
      },
      "execution_count": 6,
      "outputs": []
    },
    {
      "cell_type": "code",
      "source": [
        "# Train and evaluate with double precision\n",
        "time_double = 0.0\n",
        "for _ in range(NUM_TRAINING_RUNS):\n",
        "    model_double, training_time = train(X_train, y_train, precision='double')\n",
        "    time_double += training_time\n",
        "accuracy_double = model_double.score(X_test, y_test)"
      ],
      "metadata": {
        "id": "8EmNm1oWd6uN"
      },
      "execution_count": 7,
      "outputs": []
    },
    {
      "cell_type": "code",
      "source": [
        "# Train and evaluate with single precision\n",
        "time_single = 0.0\n",
        "for _ in range(NUM_TRAINING_RUNS):\n",
        "    model_single, training_time = train(X_train, y_train, precision='single')\n",
        "    time_single += training_time\n",
        "accuracy_single = model_single.score(X_test, y_test)"
      ],
      "metadata": {
        "id": "nF6RcTLBd8tS"
      },
      "execution_count": 13,
      "outputs": []
    },
    {
      "cell_type": "code",
      "source": [
        "# Train and evaluate with half precision\n",
        "time_half = 0.0\n",
        "for _ in range(NUM_TRAINING_RUNS):\n",
        "    model_half, training_time = train(X_train, y_train, precision='half')\n",
        "    time_half += training_time\n",
        "accuracy_half = model_half.score(X_test, y_test)"
      ],
      "metadata": {
        "id": "G4-nPKJXd-Vc"
      },
      "execution_count": 11,
      "outputs": []
    },
    {
      "cell_type": "code",
      "source": [
        "print(\"---RESULTS---\")\n",
        "print(\"Average training time in double precision:\", time_double / NUM_TRAINING_RUNS, \"seconds\")\n",
        "print(\"Average training time in single precision:\", time_single/ NUM_TRAINING_RUNS, \"seconds\")\n",
        "print(\"Average training time in half   precision:\", time_half/ NUM_TRAINING_RUNS, \"seconds\")\n",
        "print(\"-------------\")\n",
        "print(\"Accuracy with double precision:\", accuracy_double)\n",
        "print(\"Accuracy with single precision:\", accuracy_single)\n",
        "print(\"Accuracy with half   precision:\", accuracy_single)"
      ],
      "metadata": {
        "colab": {
          "base_uri": "https://localhost:8080/"
        },
        "id": "kn-JFtT2eAMy",
        "outputId": "8b15964d-1795-4a6a-fb53-bdf1e200d744"
      },
      "execution_count": 14,
      "outputs": [
        {
          "output_type": "stream",
          "name": "stdout",
          "text": [
            "---RESULTS---\n",
            "Average training time in double precision: 0.0035815715789794924 seconds\n",
            "Average training time in single precision: 0.001773834228515625 seconds\n",
            "Average training time in half   precision: 0.0016742229461669921 seconds\n",
            "-------------\n",
            "Accuracy with double precision: 0.3990167858153483\n",
            "Accuracy with single precision: 0.3990167760317159\n",
            "Accuracy with half   precision: 0.3990167760317159\n"
          ]
        }
      ]
    }
  ]
}