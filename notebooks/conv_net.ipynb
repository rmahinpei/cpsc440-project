{
  "nbformat": 4,
  "nbformat_minor": 0,
  "metadata": {
    "colab": {
      "provenance": [],
      "gpuType": "T4"
    },
    "kernelspec": {
      "name": "python3",
      "display_name": "Python 3"
    },
    "language_info": {
      "name": "python"
    },
    "accelerator": "GPU"
  },
  "cells": [
    {
      "cell_type": "markdown",
      "source": [
        "# **Convolutional Neural Network**\n",
        "*   Implementation of a convolutional neural network classifier supporting **multi-precision** training.\n",
        "    *   Implementation currently supports training in either double, single, or half precision.\n",
        "    *   This implies that both the computations and parameter storage are done in the specified precision.\n",
        "*   Implementation of a convolutional neural network classifier supporting **mixed-precision** training.\n",
        "    *   Implementation currently supports half precision computations with single precision parameter storage.\n",
        "*   Implementationa are based off of TensorFlow's very own example: [TensorFlow CNN Tutorial](https://www.tensorflow.org/tutorials/images/cnn)"
      ],
      "metadata": {
        "id": "11ygBvnFXQR8"
      }
    },
    {
      "cell_type": "code",
      "execution_count": 1,
      "metadata": {
        "id": "j6x5_rH9Vb0j"
      },
      "outputs": [],
      "source": [
        "import time\n",
        "import numpy as np\n",
        "import tensorflow as tf\n",
        "from tensorflow.keras import datasets, layers, models"
      ]
    },
    {
      "cell_type": "code",
      "source": [
        "# Define number of training runs to compute the average training time over\n",
        "NUM_TRAINING_RUNS = 2\n",
        "# Values are specific to the CIFAR10 dataset\n",
        "INPUT_DIM = 32\n",
        "INPUT_CHANNELS = 3\n",
        "NUM_CLASSES = 10"
      ],
      "metadata": {
        "id": "AjrnuoQoVpr1"
      },
      "execution_count": 2,
      "outputs": []
    },
    {
      "cell_type": "code",
      "source": [
        "def build_and_train(X_train, y_train, precision='single'):\n",
        "    if precision == 'double':\n",
        "        dtype = tf.float64\n",
        "    elif precision == 'single':\n",
        "        dtype = tf.float32\n",
        "    else: # half\n",
        "        dtype = tf.float16\n",
        "\n",
        "    model = models.Sequential([\n",
        "        layers.Conv2D(32, (3, 3), activation='relu', input_shape=(INPUT_DIM, INPUT_DIM, INPUT_CHANNELS), dtype=dtype),\n",
        "        layers.MaxPooling2D((2, 2)),\n",
        "        layers.Conv2D(64, (3, 3), activation='relu', dtype=dtype),\n",
        "        layers.MaxPooling2D((2, 2)),\n",
        "        layers.Conv2D(64, (3, 3), activation='relu'),\n",
        "        layers.Flatten(dtype=dtype),\n",
        "        layers.Dense(64, activation='relu', dtype=dtype),\n",
        "        layers.Dense(NUM_CLASSES, activation='softmax', dtype=dtype)\n",
        "    ])\n",
        "    model.compile(optimizer='adam',\n",
        "                  loss=tf.keras.losses.SparseCategoricalCrossentropy(from_logits=True),\n",
        "                  metrics=['accuracy'])\n",
        "\n",
        "    start_time = time.time()\n",
        "    model.fit(X_train, y_train, epochs=5)\n",
        "    end_time = time.time()\n",
        "    training_time = end_time - start_time\n",
        "\n",
        "    return model, training_time"
      ],
      "metadata": {
        "id": "JEvQAG7JVqBz"
      },
      "execution_count": 3,
      "outputs": []
    },
    {
      "cell_type": "code",
      "source": [
        "def build_and_train_mixed(X_train, y_train):\n",
        "    tf.keras.mixed_precision.set_global_policy('mixed_float16')\n",
        "    model = models.Sequential([\n",
        "        layers.Conv2D(32, (3, 3), activation='relu', input_shape=(INPUT_DIM, INPUT_DIM, INPUT_CHANNELS)),\n",
        "        layers.MaxPooling2D((2, 2)),\n",
        "        layers.Conv2D(64, (3, 3), activation='relu'),\n",
        "        layers.MaxPooling2D((2, 2)),\n",
        "        layers.Conv2D(64, (3, 3), activation='relu'),\n",
        "        layers.Flatten(),\n",
        "        layers.Dense(64, activation='relu'),\n",
        "        layers.Dense(NUM_CLASSES, activation='softmax')\n",
        "    ])\n",
        "    model.compile(optimizer='adam',\n",
        "                  loss=tf.keras.losses.SparseCategoricalCrossentropy(from_logits=True),\n",
        "                  metrics=['accuracy'])\n",
        "\n",
        "    start_time = time.time()\n",
        "    model.fit(X_train, y_train, epochs=5)\n",
        "    end_time = time.time()\n",
        "    training_time = end_time - start_time\n",
        "\n",
        "    tf.keras.mixed_precision.set_global_policy('float32')\n",
        "    return model, training_time"
      ],
      "metadata": {
        "id": "BAiqZI5smG01"
      },
      "execution_count": 4,
      "outputs": []
    },
    {
      "cell_type": "code",
      "source": [
        "# Load dataset and split into train and test sets\n",
        "(X_train, y_train), (X_test, y_test) = datasets.cifar10.load_data()\n",
        "\n",
        "# Scale values before feeding into neural net\n",
        "X_train = X_train / 255.0\n",
        "X_test = X_test / 255.0"
      ],
      "metadata": {
        "id": "kSy0w77FV1OF",
        "colab": {
          "base_uri": "https://localhost:8080/"
        },
        "outputId": "82290989-e17d-4d59-ce1d-86e0c53f85bb"
      },
      "execution_count": 5,
      "outputs": [
        {
          "output_type": "stream",
          "name": "stdout",
          "text": [
            "Downloading data from https://www.cs.toronto.edu/~kriz/cifar-10-python.tar.gz\n",
            "170498071/170498071 [==============================] - 4s 0us/step\n"
          ]
        }
      ]
    },
    {
      "cell_type": "code",
      "source": [
        "# Test run to make sure that everything is working properly before starting actual measurements\n",
        "_ = build_and_train(X_train, y_train, precision='single')\n",
        "_ = build_and_train_mixed(X_train, y_train)"
      ],
      "metadata": {
        "colab": {
          "base_uri": "https://localhost:8080/"
        },
        "id": "dENPPu1HV1dz",
        "outputId": "51af8cdc-845b-4704-c74b-9918b206dd53"
      },
      "execution_count": 6,
      "outputs": [
        {
          "output_type": "stream",
          "name": "stdout",
          "text": [
            "Epoch 1/5\n"
          ]
        },
        {
          "output_type": "stream",
          "name": "stderr",
          "text": [
            "/usr/local/lib/python3.10/dist-packages/keras/src/backend.py:5727: UserWarning: \"`sparse_categorical_crossentropy` received `from_logits=True`, but the `output` argument was produced by a Softmax activation and thus does not represent logits. Was this intended?\n",
            "  output, from_logits = _get_logits(\n"
          ]
        },
        {
          "output_type": "stream",
          "name": "stdout",
          "text": [
            "1563/1563 [==============================] - 12s 5ms/step - loss: 1.5065 - accuracy: 0.4528\n",
            "Epoch 2/5\n",
            "1563/1563 [==============================] - 7s 5ms/step - loss: 1.1358 - accuracy: 0.5975\n",
            "Epoch 3/5\n",
            "1563/1563 [==============================] - 7s 4ms/step - loss: 0.9887 - accuracy: 0.6528\n",
            "Epoch 4/5\n",
            "1563/1563 [==============================] - 7s 5ms/step - loss: 0.8970 - accuracy: 0.6886\n",
            "Epoch 5/5\n",
            "1563/1563 [==============================] - 7s 4ms/step - loss: 0.8251 - accuracy: 0.7093\n",
            "Epoch 1/5\n",
            "1563/1563 [==============================] - 13s 6ms/step - loss: 1.5284 - accuracy: 0.4429\n",
            "Epoch 2/5\n",
            "1563/1563 [==============================] - 9s 6ms/step - loss: 1.1512 - accuracy: 0.5903\n",
            "Epoch 3/5\n",
            "1563/1563 [==============================] - 8s 5ms/step - loss: 1.0088 - accuracy: 0.6442\n",
            "Epoch 4/5\n",
            "1563/1563 [==============================] - 9s 6ms/step - loss: 0.9085 - accuracy: 0.6823\n",
            "Epoch 5/5\n",
            "1563/1563 [==============================] - 9s 6ms/step - loss: 0.8327 - accuracy: 0.7100\n"
          ]
        }
      ]
    },
    {
      "cell_type": "code",
      "source": [
        "# Train with double precision\n",
        "time_double = 0.0\n",
        "for _ in range(NUM_TRAINING_RUNS):\n",
        "    model_double, training_time = build_and_train(X_train, y_train, 'double')\n",
        "    time_double += training_time\n",
        "accuracy_double = model_double.evaluate(X_test, y_test, verbose=2)[1]"
      ],
      "metadata": {
        "colab": {
          "base_uri": "https://localhost:8080/"
        },
        "id": "AqQI4sdCV3dv",
        "outputId": "53780ef7-8173-4d7b-c375-4b5668d5dc76"
      },
      "execution_count": 7,
      "outputs": [
        {
          "output_type": "stream",
          "name": "stdout",
          "text": [
            "Epoch 1/5\n",
            "1563/1563 [==============================] - 16s 8ms/step - loss: 1.5370 - accuracy: 0.4379\n",
            "Epoch 2/5\n",
            "1563/1563 [==============================] - 13s 8ms/step - loss: 1.1466 - accuracy: 0.5959\n",
            "Epoch 3/5\n",
            "1563/1563 [==============================] - 13s 8ms/step - loss: 0.9908 - accuracy: 0.6526\n",
            "Epoch 4/5\n",
            "1563/1563 [==============================] - 13s 8ms/step - loss: 0.8934 - accuracy: 0.6860\n",
            "Epoch 5/5\n",
            "1563/1563 [==============================] - 13s 8ms/step - loss: 0.8238 - accuracy: 0.7120\n",
            "Epoch 1/5\n",
            "1563/1563 [==============================] - 15s 8ms/step - loss: 1.5142 - accuracy: 0.4502\n",
            "Epoch 2/5\n",
            "1563/1563 [==============================] - 13s 8ms/step - loss: 1.1539 - accuracy: 0.5923\n",
            "Epoch 3/5\n",
            "1563/1563 [==============================] - 13s 8ms/step - loss: 1.0075 - accuracy: 0.6454\n",
            "Epoch 4/5\n",
            "1563/1563 [==============================] - 13s 8ms/step - loss: 0.9104 - accuracy: 0.6802\n",
            "Epoch 5/5\n",
            "1563/1563 [==============================] - 12s 8ms/step - loss: 0.8396 - accuracy: 0.7077\n",
            "313/313 - 2s - loss: 0.9040 - accuracy: 0.6932 - 2s/epoch - 7ms/step\n"
          ]
        }
      ]
    },
    {
      "cell_type": "code",
      "source": [
        "# Train with single precision\n",
        "time_single = 0.0\n",
        "for _ in range(NUM_TRAINING_RUNS):\n",
        "    model_single, training_time = build_and_train(X_train, y_train, 'single')\n",
        "    time_single += training_time\n",
        "accuracy_single = model_single.evaluate(X_test, y_test, verbose=2)[1]"
      ],
      "metadata": {
        "colab": {
          "base_uri": "https://localhost:8080/"
        },
        "id": "UcLduEgTWpyC",
        "outputId": "3c9b6e42-f268-44c1-86d6-82654699be29"
      },
      "execution_count": 8,
      "outputs": [
        {
          "output_type": "stream",
          "name": "stdout",
          "text": [
            "Epoch 1/5\n",
            "1563/1563 [==============================] - 9s 5ms/step - loss: 1.5211 - accuracy: 0.4444\n",
            "Epoch 2/5\n",
            "1563/1563 [==============================] - 7s 4ms/step - loss: 1.1408 - accuracy: 0.5966\n",
            "Epoch 3/5\n",
            "1563/1563 [==============================] - 7s 5ms/step - loss: 0.9774 - accuracy: 0.6585\n",
            "Epoch 4/5\n",
            "1563/1563 [==============================] - 7s 5ms/step - loss: 0.8906 - accuracy: 0.6897\n",
            "Epoch 5/5\n",
            "1563/1563 [==============================] - 7s 4ms/step - loss: 0.8144 - accuracy: 0.7132\n",
            "Epoch 1/5\n",
            "1563/1563 [==============================] - 9s 5ms/step - loss: 1.4924 - accuracy: 0.4553\n",
            "Epoch 2/5\n",
            "1563/1563 [==============================] - 7s 5ms/step - loss: 1.1261 - accuracy: 0.6023\n",
            "Epoch 3/5\n",
            "1563/1563 [==============================] - 7s 4ms/step - loss: 0.9776 - accuracy: 0.6552\n",
            "Epoch 4/5\n",
            "1563/1563 [==============================] - 7s 5ms/step - loss: 0.8800 - accuracy: 0.6903\n",
            "Epoch 5/5\n",
            "1563/1563 [==============================] - 7s 4ms/step - loss: 0.8032 - accuracy: 0.7167\n",
            "313/313 - 1s - loss: 0.9063 - accuracy: 0.6851 - 775ms/epoch - 2ms/step\n"
          ]
        }
      ]
    },
    {
      "cell_type": "code",
      "source": [
        "# Train with half precision\n",
        "time_half = 0.0\n",
        "for _ in range(NUM_TRAINING_RUNS):\n",
        "    model_half, training_time = build_and_train(X_train, y_train, 'half')\n",
        "    time_half += training_time\n",
        "accuracy_half = model_half.evaluate(X_test, y_test, verbose=2)[1]"
      ],
      "metadata": {
        "colab": {
          "base_uri": "https://localhost:8080/"
        },
        "id": "f__l6zchWs8g",
        "outputId": "819b1df0-94c3-4968-d7a3-095aff5cbdea"
      },
      "execution_count": 9,
      "outputs": [
        {
          "output_type": "stream",
          "name": "stdout",
          "text": [
            "Epoch 1/5\n",
            "1563/1563 [==============================] - 9s 5ms/step - loss: nan - accuracy: 0.0999\n",
            "Epoch 2/5\n",
            "1563/1563 [==============================] - 7s 4ms/step - loss: nan - accuracy: 0.1000\n",
            "Epoch 3/5\n",
            "1563/1563 [==============================] - 7s 5ms/step - loss: nan - accuracy: 0.1000\n",
            "Epoch 4/5\n",
            "1563/1563 [==============================] - 7s 4ms/step - loss: nan - accuracy: 0.1000\n",
            "Epoch 5/5\n",
            "1563/1563 [==============================] - 7s 5ms/step - loss: nan - accuracy: 0.1000\n",
            "Epoch 1/5\n",
            "1563/1563 [==============================] - 9s 5ms/step - loss: nan - accuracy: 0.1000\n",
            "Epoch 2/5\n",
            "1563/1563 [==============================] - 7s 5ms/step - loss: nan - accuracy: 0.1000\n",
            "Epoch 3/5\n",
            "1563/1563 [==============================] - 7s 4ms/step - loss: nan - accuracy: 0.1000\n",
            "Epoch 4/5\n",
            "1563/1563 [==============================] - 7s 5ms/step - loss: nan - accuracy: 0.1000\n",
            "Epoch 5/5\n",
            "1563/1563 [==============================] - 7s 4ms/step - loss: nan - accuracy: 0.1000\n",
            "313/313 - 1s - loss: nan - accuracy: 0.1000 - 759ms/epoch - 2ms/step\n"
          ]
        }
      ]
    },
    {
      "cell_type": "code",
      "source": [
        "# Train with mixed half precision\n",
        "time_mixed = 0.0\n",
        "for _ in range(NUM_TRAINING_RUNS):\n",
        "    model_mixed, training_time = build_and_train_mixed(X_train, y_train)\n",
        "    time_mixed += training_time\n",
        "accuracy_mixed = model_mixed.evaluate(X_test, y_test, verbose=2)[1]"
      ],
      "metadata": {
        "colab": {
          "base_uri": "https://localhost:8080/"
        },
        "id": "6k9UH-oLmbGd",
        "outputId": "2a5255d2-cd6e-4faa-eb2c-2b57df9a7bf1"
      },
      "execution_count": 12,
      "outputs": [
        {
          "output_type": "stream",
          "name": "stdout",
          "text": [
            "Epoch 1/5\n",
            "1563/1563 [==============================] - 10s 5ms/step - loss: 1.5039 - accuracy: 0.4495\n",
            "Epoch 2/5\n",
            "1563/1563 [==============================] - 8s 5ms/step - loss: 1.1407 - accuracy: 0.5971\n",
            "Epoch 3/5\n",
            "1563/1563 [==============================] - 9s 5ms/step - loss: 0.9829 - accuracy: 0.6546\n",
            "Epoch 4/5\n",
            "1563/1563 [==============================] - 8s 5ms/step - loss: 0.8857 - accuracy: 0.6920\n",
            "Epoch 5/5\n",
            "1563/1563 [==============================] - 8s 5ms/step - loss: 0.8144 - accuracy: 0.7153\n",
            "Epoch 1/5\n",
            "1563/1563 [==============================] - 11s 6ms/step - loss: 1.5389 - accuracy: 0.4406\n",
            "Epoch 2/5\n",
            "1563/1563 [==============================] - 9s 5ms/step - loss: 1.1712 - accuracy: 0.5854\n",
            "Epoch 3/5\n",
            "1563/1563 [==============================] - 8s 5ms/step - loss: 1.0250 - accuracy: 0.6390\n",
            "Epoch 4/5\n",
            "1563/1563 [==============================] - 9s 5ms/step - loss: 0.9297 - accuracy: 0.6723\n",
            "Epoch 5/5\n",
            "1563/1563 [==============================] - 9s 6ms/step - loss: 0.8632 - accuracy: 0.6994\n",
            "313/313 - 1s - loss: 0.8993 - accuracy: 0.6894 - 1s/epoch - 4ms/step\n"
          ]
        }
      ]
    },
    {
      "cell_type": "code",
      "source": [
        "print(\"---RESULTS---\")\n",
        "print(\"Average training time in double precision:\", time_double / NUM_TRAINING_RUNS, \"seconds\")\n",
        "print(\"Average training time in single precision:\", time_single/ NUM_TRAINING_RUNS, \"seconds\")\n",
        "print(\"Average training time in half precision:\", time_half/ NUM_TRAINING_RUNS, \"seconds\")\n",
        "print(\"Average training time in mixed half precision:\", time_mixed/ NUM_TRAINING_RUNS, \"seconds\")\n",
        "print(\"-------------\")\n",
        "print(\"Accuracy with double precision:\", accuracy_double)\n",
        "print(\"Accuracy with single precision:\", accuracy_single)\n",
        "print(\"Accuracy with half precision:\", accuracy_single)\n",
        "print(\"Accuracy with mixed half precision:\", accuracy_mixed)"
      ],
      "metadata": {
        "colab": {
          "base_uri": "https://localhost:8080/"
        },
        "id": "d6TdL07PWvki",
        "outputId": "bcc97b09-a62f-414c-92f4-fb01cadaef23"
      },
      "execution_count": 13,
      "outputs": [
        {
          "output_type": "stream",
          "name": "stdout",
          "text": [
            "---RESULTS---\n",
            "Average training time in double precision: 84.81147956848145 seconds\n",
            "Average training time in single precision: 40.99379587173462 seconds\n",
            "Average training time in half precision: 39.33662962913513 seconds\n",
            "Average training time in mixed half precision: 85.53620910644531 seconds\n",
            "-------------\n",
            "Accuracy with double precision: 0.6931999921798706\n",
            "Accuracy with single precision: 0.6851000189781189\n",
            "Accuracy with half precision: 0.6851000189781189\n",
            "Accuracy with mixed half precision: 0.6894000172615051\n"
          ]
        }
      ]
    }
  ]
}